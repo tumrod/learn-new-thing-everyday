{
 "cells": [
  {
   "cell_type": "code",
   "execution_count": null,
   "metadata": {
    "collapsed": true
   },
   "outputs": [],
   "source": [
    "# Q1\n",
    "# Natural Join\n",
    "\"\"\"\n",
    "Suppose relation R(A, C) has the following tuples: R = [ (3, 4), (5, 2), (3, 1) ]\n",
    "and relation S(B, C, D) has the following tuples: S = [ (1, 2, 4), (3, 2, 5), (1, 1, 6) ] \n",
    "\n",
    "Compute the natural join of R and S. \n",
    "Write down all of the possibilities. \n",
    "Assume each tuple has schema (A, B, C, D).\n",
    "\"\"\""
   ]
  },
  {
   "cell_type": "code",
   "execution_count": 49,
   "metadata": {
    "collapsed": false
   },
   "outputs": [
    {
     "data": {
      "text/plain": [
       "(3, 1, 1, 6)"
      ]
     },
     "execution_count": 49,
     "metadata": {},
     "output_type": "execute_result"
    }
   ],
   "source": [
    "(5, 3, 2, 5)\n",
    "(3, 1, 1, 6)"
   ]
  },
  {
   "cell_type": "code",
   "execution_count": null,
   "metadata": {
    "collapsed": true
   },
   "outputs": [],
   "source": [
    "# Q2\n",
    "# Theta Join\n",
    "\"\"\"\n",
    "Suppose relation R(A, B) has the following tuples: R = [ (3, b), (7, t), (2, d) ]\n",
    "and relation S(B, C, D) has the following tuples: S = [ (a, 20, 9), (t, 8, 10), (d, 1, 3), (b, 5, 6) ]\n",
    "\n",
    "Compute the theta-join of R and S with the condition R.B = S.B and R.A < S.C. \n",
    "Write down all of the possibilities. \n",
    "Assume each tuple has schema (A, B, C, D).\n",
    "\"\"\""
   ]
  },
  {
   "cell_type": "code",
   "execution_count": null,
   "metadata": {
    "collapsed": true
   },
   "outputs": [],
   "source": [
    "(7, t, 8, 10)\n",
    "(3, b, 5, 6)"
   ]
  },
  {
   "cell_type": "code",
   "execution_count": null,
   "metadata": {
    "collapsed": true
   },
   "outputs": [],
   "source": [
    "# Q3\n",
    "# Cross Join\n",
    "\"\"\"\n",
    "Suppose relation R(A, C) has the following tuples: R = [ (3, 4), (5, 2) ]\n",
    "and relation S(B, D) has the following tuples: S = [ (1, 4), (3, 5), (1, 6) ] \n",
    "Compute the cross join of R and S. \n",
    "\n",
    "Write all of the possibilities.\n",
    "\"\"\""
   ]
  },
  {
   "cell_type": "code",
   "execution_count": null,
   "metadata": {
    "collapsed": true
   },
   "outputs": [],
   "source": [
    "(3, 4, 1, 4)\n",
    "(3, 4, 3, 5)\n",
    "(3, 4, 1, 6)\n",
    "(5, 2, 1, 4)\n",
    "(5, 2, 3, 5)\n",
    "(5, 2, 1, 6)"
   ]
  },
  {
   "cell_type": "code",
   "execution_count": null,
   "metadata": {
    "collapsed": false
   },
   "outputs": [],
   "source": [
    "# Q4\n",
    "# SELECT\n",
    "R = [{'A' : 1, 'B' : 3, 'C' : 5},\n",
    "{'A' : 4, 'B' : 1, 'C' : 1},\n",
    "{'A' : 7, 'B' : 5, 'C' : 2}]\n",
    "\n",
    "# Select * in R where ‘B’ > 2;"
   ]
  },
  {
   "cell_type": "code",
   "execution_count": null,
   "metadata": {
    "collapsed": false
   },
   "outputs": [],
   "source": [
    "result = list(i for i in R if i['B'] > 2)\n",
    "print(result)"
   ]
  },
  {
   "cell_type": "code",
   "execution_count": null,
   "metadata": {
    "collapsed": false
   },
   "outputs": [],
   "source": [
    "# Q5\n",
    "# PROJECT\n",
    "R = [{'A' : 1, 'B' : 3, 'C' : 5},\n",
    "{'A' : 4, 'B' : 1, 'C' : 1},\n",
    "{'A' : 7, 'B' : 5, 'C' : 2}]\n",
    "\n",
    "# Select B, C from R;"
   ]
  },
  {
   "cell_type": "code",
   "execution_count": null,
   "metadata": {
    "collapsed": false
   },
   "outputs": [],
   "source": [
    "result = list(({a : v[a] for a in (\"B\", \"C\") if a in v} for v in R))\n",
    "print(result)"
   ]
  }
 ],
 "metadata": {
  "kernelspec": {
   "display_name": "Python 3",
   "language": "python",
   "name": "python3"
  },
  "language_info": {
   "codemirror_mode": {
    "name": "ipython",
    "version": 3
   },
   "file_extension": ".py",
   "mimetype": "text/x-python",
   "name": "python",
   "nbconvert_exporter": "python",
   "pygments_lexer": "ipython3",
   "version": "3.4.3"
  }
 },
 "nbformat": 4,
 "nbformat_minor": 0
}

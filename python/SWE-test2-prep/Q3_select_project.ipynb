{
 "cells": [
  {
   "cell_type": "code",
   "execution_count": 1,
   "metadata": {
    "collapsed": true
   },
   "outputs": [],
   "source": [
    "# Q1\n",
    "# Implement SELECT"
   ]
  },
  {
   "cell_type": "code",
   "execution_count": 15,
   "metadata": {
    "collapsed": true
   },
   "outputs": [],
   "source": [
    "def select (R, predicate_f):\n",
    "    return (i for i in R if predicate_f(i))"
   ]
  },
  {
   "cell_type": "code",
   "execution_count": null,
   "metadata": {
    "collapsed": false
   },
   "outputs": [],
   "source": [
    "R = [{'A' : 1, 'B' : 3, 'C' : 5},\n",
    "{'A' : 4, 'B' : 1, 'C' : 1},\n",
    "{'A' : 7, 'B' : 5, 'C' : 2}]\n",
    "\n",
    "# Select * in R where ‘B’ > 2;\n",
    "result = list(select(R, lambda d: d['B'] > 2))\n",
    "print(result)"
   ]
  },
  {
   "cell_type": "code",
   "execution_count": 9,
   "metadata": {
    "collapsed": true
   },
   "outputs": [],
   "source": [
    "# Q2\n",
    "# Implement PROJECT"
   ]
  },
  {
   "cell_type": "code",
   "execution_count": 39,
   "metadata": {
    "collapsed": false
   },
   "outputs": [],
   "source": [
    "def project (R, *col):\n",
    "    return ({c : i[c] for c in col if c in i} for i in R)"
   ]
  },
  {
   "cell_type": "code",
   "execution_count": null,
   "metadata": {
    "collapsed": false
   },
   "outputs": [],
   "source": [
    "R = [{'A' : 1, 'B' : 3, 'C' : 5},\n",
    "{'A' : 4, 'B' : 1, 'C' : 1},\n",
    "{'A' : 7, 'B' : 5, 'C' : 2}]\n",
    "\n",
    "result = list(project(R, 'B', 'C'))\n",
    "print(result)"
   ]
  }
 ],
 "metadata": {
  "kernelspec": {
   "display_name": "Python 3",
   "language": "python",
   "name": "python3"
  },
  "language_info": {
   "codemirror_mode": {
    "name": "ipython",
    "version": 3
   },
   "file_extension": ".py",
   "mimetype": "text/x-python",
   "name": "python",
   "nbconvert_exporter": "python",
   "pygments_lexer": "ipython3",
   "version": "3.4.3"
  }
 },
 "nbformat": 4,
 "nbformat_minor": 0
}

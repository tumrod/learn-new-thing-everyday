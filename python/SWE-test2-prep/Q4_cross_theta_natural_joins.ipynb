{
 "cells": [
  {
   "cell_type": "code",
   "execution_count": null,
   "metadata": {
    "collapsed": true
   },
   "outputs": [],
   "source": [
    "# Q1\n",
    "# Implement Cross-Join"
   ]
  },
  {
   "cell_type": "code",
   "execution_count": null,
   "metadata": {
    "collapsed": true
   },
   "outputs": [],
   "source": [
    "def cross_join (R1, R2):\n",
    "    return (dict(x, **y) for x in R1 for y in R2)"
   ]
  },
  {
   "cell_type": "code",
   "execution_count": null,
   "metadata": {
    "collapsed": false
   },
   "outputs": [],
   "source": [
    "R = [ \n",
    "    {'A': 3, 'C': 4}, \n",
    "    {'A': 5, 'C': 2} \n",
    "    ]\n",
    "S = [ \n",
    "    {'B': 1, 'D': 4}, \n",
    "    {'B': 3, 'D': 5}, \n",
    "    {'B': 1, 'D': 6} \n",
    "    ] \n",
    "\n",
    "result = list(cross_join(R, S))\n",
    "print(result)\n",
    "\n",
    "# Q1.3\n",
    "print(\"\\nQuestion 1.3 answer\")\n",
    "for i in cross_join(R,S):\n",
    "    print(tuple((i['A'], i['B'], i['C'], i['D'])))"
   ]
  },
  {
   "cell_type": "code",
   "execution_count": null,
   "metadata": {
    "collapsed": true
   },
   "outputs": [],
   "source": [
    "# Q2\n",
    "# Implement Theta-Join"
   ]
  },
  {
   "cell_type": "code",
   "execution_count": null,
   "metadata": {
    "collapsed": true
   },
   "outputs": [],
   "source": [
    "def theta_join (R1, R2, pred_f):\n",
    "    return (dict(x, **y) for x in R1 for y in R2 if pred_f(x, y))"
   ]
  },
  {
   "cell_type": "code",
   "execution_count": null,
   "metadata": {
    "collapsed": false
   },
   "outputs": [],
   "source": [
    "R = [ \n",
    "    {'A': 3, 'B': 'b'}, \n",
    "    {'A': 7, 'B': 't'}, \n",
    "    {'A': 2, 'B': 'd'} \n",
    "    ]\n",
    "S = [ \n",
    "    {'B': 'a', 'C': 20, 'D': 9}, \n",
    "    {'B': 't', 'C': 8, 'D': 10}, \n",
    "    {'B': 'd', 'C': 1, 'D': 3}, \n",
    "    {'B': 'b', 'C': 5, 'D': 6}\n",
    "    ]\n",
    "\n",
    "# R.B = S.B and R.A < S.C\n",
    "result = list(theta_join(R, S, lambda r, s: r['B'] == s['B'] and r['A']< s['C'] ))\n",
    "print(result)\n",
    "\n",
    "# Q1.2\n",
    "print(\"\\nQuestion 1.2 answer\")\n",
    "for i in theta_join(R,S, lambda r, s: r['B'] == s['B'] and r['A']< s['C']):\n",
    "    print(tuple((i['A'], i['B'], i['C'], i['D'])))\n"
   ]
  },
  {
   "cell_type": "code",
   "execution_count": null,
   "metadata": {
    "collapsed": true
   },
   "outputs": [],
   "source": [
    "# Q3\n",
    "# Implement Natural-Join"
   ]
  },
  {
   "cell_type": "code",
   "execution_count": null,
   "metadata": {
    "collapsed": false
   },
   "outputs": [],
   "source": [
    "def can_join (r, s) :\n",
    "    for r_key in r :\n",
    "        for s_key in s:     \n",
    "            if (r_key == s_key) and (r[r_key] != s[s_key]) :\n",
    "                return False\n",
    "    return True\n",
    "\n",
    "def natural_join (R1, R2):\n",
    "    return (dict(x, **y) for x in R1 for y in R2 if can_join(x, y))"
   ]
  },
  {
   "cell_type": "code",
   "execution_count": null,
   "metadata": {
    "collapsed": false
   },
   "outputs": [],
   "source": [
    "R = [ \n",
    "    {'A': 3, 'C': 4}, \n",
    "    {'A': 5, 'C': 2}, \n",
    "    {'A': 3, 'C': 1} \n",
    "    ]\n",
    "S = [\n",
    "    {'B': 1, 'C': 2, 'D': 4}, \n",
    "    {'B': 3, 'C': 2, 'D': 5}, \n",
    "    {'B': 1, 'C': 1, 'D': 6}\n",
    "    ]\n",
    "\n",
    "result = list(natural_join(R, S))\n",
    "print(result)\n",
    "\n",
    "# Q1.1\n",
    "print(\"\\nQuestion 1.1 answer\")\n",
    "for i in natural_join(R,S):\n",
    "    print(tuple((i['A'], i['B'], i['C'], i['D'])))\n"
   ]
  }
 ],
 "metadata": {
  "kernelspec": {
   "display_name": "Python 3",
   "language": "python",
   "name": "python3"
  },
  "language_info": {
   "codemirror_mode": {
    "name": "ipython",
    "version": 3
   },
   "file_extension": ".py",
   "mimetype": "text/x-python",
   "name": "python",
   "nbconvert_exporter": "python",
   "pygments_lexer": "ipython3",
   "version": "3.4.3"
  }
 },
 "nbformat": 4,
 "nbformat_minor": 0
}

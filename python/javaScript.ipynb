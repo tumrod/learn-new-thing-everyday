{
 "cells": [
  {
   "cell_type": "code",
   "execution_count": 1,
   "metadata": {
    "collapsed": false
   },
   "outputs": [
    {
     "data": {
      "application/javascript": [
       "\n",
       "var assert = require(['assert']);\n",
       "\n",
       "function cycle_length (n) {\n",
       "    \"use strict\";\n",
       "    assert(n > 0);\n",
       "    var c = 0;\n",
       "    while (n > 1) {\n",
       "        if ((n % 2) === 0) {\n",
       "            n = n / 2;}\n",
       "        else {\n",
       "            n = (3 * n) + 1;}\n",
       "        c += 1;}\n",
       "    assert(c > 0);\n",
       "    return c;}\n",
       "\n",
       "alert(\"cycle_length(4) = \" + cycle_length(4));"
      ],
      "text/plain": [
       "<IPython.core.display.Javascript object>"
      ]
     },
     "metadata": {},
     "output_type": "display_data"
    }
   ],
   "source": [
    "%%javascript\n",
    "\n",
    "var assert = require(['assert']);\n",
    "\n",
    "function cycle_length (n) {\n",
    "    \"use strict\";\n",
    "    assert(n > 0);\n",
    "    var c = 0;\n",
    "    while (n > 1) {\n",
    "        if ((n % 2) === 0) {\n",
    "            n = n / 2;}\n",
    "        else {\n",
    "            n = (3 * n) + 1;}\n",
    "        c += 1;}\n",
    "    assert(c > 0);\n",
    "    return c;}\n",
    "\n",
    "alert(\"cycle_length(4) = \" + cycle_length(4));"
   ]
  },
  {
   "cell_type": "code",
   "execution_count": 18,
   "metadata": {
    "collapsed": false
   },
   "outputs": [
    {
     "data": {
      "application/javascript": [
       "window.myvar = \"Hello World!\""
      ],
      "text/plain": [
       "<IPython.core.display.Javascript object>"
      ]
     },
     "metadata": {},
     "output_type": "display_data"
    }
   ],
   "source": [
    "%%javascript\n",
    "window.myvar = \"Hello World!\""
   ]
  },
  {
   "cell_type": "code",
   "execution_count": 14,
   "metadata": {
    "collapsed": false
   },
   "outputs": [
    {
     "data": {
      "application/javascript": [
       "window.myvar = 12;"
      ],
      "text/plain": [
       "<IPython.core.display.Javascript object>"
      ]
     },
     "metadata": {},
     "output_type": "display_data"
    }
   ],
   "source": [
    "%%javascript\n",
    "window.myvar = 12;"
   ]
  },
  {
   "cell_type": "code",
   "execution_count": 19,
   "metadata": {
    "collapsed": false
   },
   "outputs": [
    {
     "data": {
      "application/javascript": [
       "console.log(myvar)\n",
       "element.append(myvar)"
      ],
      "text/plain": [
       "<IPython.core.display.Javascript object>"
      ]
     },
     "metadata": {},
     "output_type": "display_data"
    }
   ],
   "source": [
    "%%javascript\n",
    "console.log(myvar)\n",
    "element.append(myvar)"
   ]
  },
  {
   "cell_type": "code",
   "execution_count": null,
   "metadata": {
    "collapsed": true
   },
   "outputs": [],
   "source": [
    "%%javascript\n"
   ]
  }
 ],
 "metadata": {
  "kernelspec": {
   "display_name": "Python 3",
   "language": "python",
   "name": "python3"
  },
  "language_info": {
   "codemirror_mode": {
    "name": "ipython",
    "version": 3
   },
   "file_extension": ".py",
   "mimetype": "text/x-python",
   "name": "python",
   "nbconvert_exporter": "python",
   "pygments_lexer": "ipython3",
   "version": "3.4.3"
  }
 },
 "nbformat": 4,
 "nbformat_minor": 0
}

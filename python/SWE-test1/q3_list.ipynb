{
 "cells": [
  {
   "cell_type": "code",
   "execution_count": 4,
   "metadata": {
    "collapsed": false
   },
   "outputs": [
    {
     "name": "stdout",
     "output_type": "stream",
     "text": [
      "[4, 9, 16]\n",
      "False True True False\n"
     ]
    }
   ],
   "source": [
    "# Question 1\n",
    "a = [2, 3, 4]\n",
    "b = [v ** 2 for v in a]\n",
    "print(b)\n",
    "print(hasattr(b, \"__next__\"),    end = \" \")\n",
    "print(hasattr(b, \"__getitem__\"), end = \" \")\n",
    "p = iter(b)\n",
    "print(hasattr(p, \"__iter__\"),    end = \" \")\n",
    "print(p is b)"
   ]
  },
  {
   "cell_type": "code",
   "execution_count": 5,
   "metadata": {
    "collapsed": false
   },
   "outputs": [
    {
     "name": "stdout",
     "output_type": "stream",
     "text": [
      "[9, 11, 11, 13]\n"
     ]
    }
   ],
   "source": [
    "# Question 2\n",
    "x = [2,3,4]\n",
    "y = [7,8,9]\n",
    "z = [v + w for v in x if not v%2 for w in y if w%2]\n",
    "print(z)"
   ]
  },
  {
   "cell_type": "code",
   "execution_count": 6,
   "metadata": {
    "collapsed": false
   },
   "outputs": [
    {
     "name": "stdout",
     "output_type": "stream",
     "text": [
      "[11, 13]\n"
     ]
    }
   ],
   "source": [
    "# Question 3\n",
    "x = [2,3,4]\n",
    "y = [7,8,10]\n",
    "z = [v + w for v in x if v%2 for w in y if not w%2]\n",
    "print(z)"
   ]
  },
  {
   "cell_type": "code",
   "execution_count": null,
   "metadata": {
    "collapsed": true
   },
   "outputs": [],
   "source": []
  }
 ],
 "metadata": {
  "kernelspec": {
   "display_name": "Python 3",
   "language": "python",
   "name": "python3"
  },
  "language_info": {
   "codemirror_mode": {
    "name": "ipython",
    "version": 3
   },
   "file_extension": ".py",
   "mimetype": "text/x-python",
   "name": "python",
   "nbconvert_exporter": "python",
   "pygments_lexer": "ipython3",
   "version": "3.4.3"
  }
 },
 "nbformat": 4,
 "nbformat_minor": 0
}

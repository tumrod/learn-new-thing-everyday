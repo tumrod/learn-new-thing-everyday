{
 "cells": [
  {
   "cell_type": "code",
   "execution_count": 1,
   "metadata": {
    "collapsed": false
   },
   "outputs": [
    {
     "name": "stdout",
     "output_type": "stream",
     "text": [
      "[7, 9]\n",
      "()\n"
     ]
    }
   ],
   "source": [
    "# Question 1\n",
    "\n",
    "x = [2, 3, 4]\n",
    "y = [4, 5]\n",
    "z = (v + w for v in x if v % 2 for w in y if not w % 2)\n",
    "y += [6]\n",
    "print(list(z))\n",
    "print(tuple(z))"
   ]
  },
  {
   "cell_type": "code",
   "execution_count": 14,
   "metadata": {
    "collapsed": false
   },
   "outputs": [
    {
     "name": "stdout",
     "output_type": "stream",
     "text": [
      "y1:  [4, 9, 16]\n",
      "z1:  [4, 9, 16, 25]\n",
      "y2:  (4, 9, 16)\n",
      "z2:  ()\n"
     ]
    }
   ],
   "source": [
    "# Question 2\n",
    "\n",
    "x = [2, 3, 4]\n",
    "y = [v ** 2 for v in x]\n",
    "z = (v ** 2 for v in x)\n",
    "x += [5]\n",
    "print(\"y1: \", list(y))\n",
    "print(\"z1: \", list(z))\n",
    "print(\"y2: \", tuple(y))\n",
    "print(\"z2: \", tuple(z))"
   ]
  },
  {
   "cell_type": "code",
   "execution_count": 2,
   "metadata": {
    "collapsed": false
   },
   "outputs": [
    {
     "name": "stdout",
     "output_type": "stream",
     "text": [
      "x:  (2, 3, 4)\n",
      "x2:  (2, 3, 4, 5)\n",
      "y1:  [4, 9, 16]\n",
      "z1:  [4, 9, 16]\n",
      "y2:  [4, 9, 16]\n",
      "z2:  []\n"
     ]
    }
   ],
   "source": [
    "# Question 3\n",
    "\n",
    "x = (2, 3, 4)\n",
    "y = [v ** 2 for v in x]\n",
    "z = (v ** 2 for v in x)\n",
    "print(\"x: \", x)\n",
    "x += (5,)\n",
    "print(\"x2: \", x) # edited for comparison\n",
    "print(\"y1: \", list(y))\n",
    "print(\"z1: \", list(z))\n",
    "print(\"y2: \", list(y))\n",
    "print(\"z2: \", list(z))"
   ]
  },
  {
   "cell_type": "code",
   "execution_count": 13,
   "metadata": {
    "collapsed": false
   },
   "outputs": [
    {
     "name": "stdout",
     "output_type": "stream",
     "text": [
      "<class 'generator'>\n",
      "True\n",
      "True\n",
      "False\n",
      "True\n",
      "next: 1 z:  2\n",
      "next: 3 z:  4\n",
      "next: 5 "
     ]
    },
    {
     "ename": "StopIteration",
     "evalue": "",
     "output_type": "error",
     "traceback": [
      "\u001b[0;31m---------------------------------------------------------------------------\u001b[0m",
      "\u001b[0;31mStopIteration\u001b[0m                             Traceback (most recent call last)",
      "\u001b[0;32m<ipython-input-13-0b193dc77054>\u001b[0m in \u001b[0;36m<module>\u001b[0;34m()\u001b[0m\n\u001b[1;32m     19\u001b[0m \u001b[0mz\u001b[0m \u001b[0;34m=\u001b[0m \u001b[0mnext\u001b[0m\u001b[0;34m(\u001b[0m\u001b[0mx\u001b[0m\u001b[0;34m)\u001b[0m\u001b[0;34m\u001b[0m\u001b[0m\n\u001b[1;32m     20\u001b[0m \u001b[0mprint\u001b[0m\u001b[0;34m(\u001b[0m\u001b[0;34m\"z: \"\u001b[0m\u001b[0;34m,\u001b[0m \u001b[0mz\u001b[0m\u001b[0;34m)\u001b[0m\u001b[0;34m\u001b[0m\u001b[0m\n\u001b[0;32m---> 21\u001b[0;31m \u001b[0mz\u001b[0m \u001b[0;34m=\u001b[0m \u001b[0mnext\u001b[0m\u001b[0;34m(\u001b[0m\u001b[0mx\u001b[0m\u001b[0;34m)\u001b[0m\u001b[0;34m\u001b[0m\u001b[0m\n\u001b[0m",
      "\u001b[0;31mStopIteration\u001b[0m: "
     ]
    }
   ],
   "source": [
    "# Question 4\n",
    "\n",
    "def f():\n",
    "\tprint(\"next: 1\", end = \" \")\n",
    "\tyield 2\n",
    "\tprint(\"next: 3\", end = \" \")\n",
    "\tyield 4\n",
    "\tprint(\"next: 5\", end = \" \")\n",
    "x = f()\n",
    "print(type(x))\n",
    "print(hasattr(x, \"__next__\"))\n",
    "print(hasattr(x, \"__iter__\"))\n",
    "print(hasattr(x, \"__getitem__\"))\n",
    "y = iter(x)\n",
    "print(y is x)\n",
    "\n",
    "z = next(x)\n",
    "print(\"z: \", z)\n",
    "z = next(x)\n",
    "print(\"z: \", z)\n",
    "z = next(x)"
   ]
  },
  {
   "cell_type": "code",
   "execution_count": 12,
   "metadata": {
    "collapsed": false
   },
   "outputs": [
    {
     "name": "stdout",
     "output_type": "stream",
     "text": [
      "[2, 3, 5, 7, 11, 13, 17, 19, 23, 29]\n",
      "[2, 3, 5, 7, 11, 13, 17, 19, 23, 29]\n",
      "True\n"
     ]
    }
   ],
   "source": [
    "# Question 5\n",
    "\n",
    "from math import sqrt\n",
    "\n",
    "def is_prime(n):\n",
    "    if (n == 1) or ((n % 2) == 0) :\n",
    "        return (n == 2)\n",
    "    for i in range(3, int(sqrt(n))+1, 2) :\n",
    "        if (n % i) == 0 :\n",
    "            return False\n",
    "    return True\n",
    "\n",
    "def f():\n",
    "\tk = 0\n",
    "\tn = 2\n",
    "\twhile (k != 10) :\n",
    "\t\tif is_prime(n):\n",
    "\t\t\tk += 1\n",
    "\t\t\tyield n\n",
    "\t\tn += 1\n",
    "\n",
    "x = f()\n",
    "y = list(x)\n",
    "print(y)\n",
    "\n",
    "z = [2,3,5,7,11,13,17,19,23,29]\n",
    "\n",
    "# solution for the first 20 primes\n",
    "#z = [2,3,5,7,11,13,17,19,23,29,31,37,41,43,47,53,59,61,67,71]\n",
    "\n",
    "print(z)\n",
    "print(y == z)"
   ]
  },
  {
   "cell_type": "code",
   "execution_count": 10,
   "metadata": {
    "collapsed": false
   },
   "outputs": [
    {
     "name": "stdout",
     "output_type": "stream",
     "text": [
      "[3628800, 39916800, 479001600, 6227020800, 87178291200, 1307674368000, 20922789888000, 355687428096000, 6402373705728000, 121645100408832000, 2432902008176640000]\n",
      "[3628800, 39916800, 479001600, 6227020800, 87178291200, 1307674368000, 20922789888000, 355687428096000, 6402373705728000, 121645100408832000, 2432902008176640000]\n",
      "True\n"
     ]
    }
   ],
   "source": [
    "# Question 6\n",
    "\n",
    "from functools import reduce\n",
    "from operator  import mul\n",
    "\n",
    "def factorial(n):\n",
    "\treturn reduce(mul, range(1, n + 1), 1)\n",
    "\n",
    "def f():\n",
    "\tfor i in range(10, 21):\n",
    "\t\tyield factorial(i)\n",
    "\n",
    "x = f()\n",
    "result = list(x)\n",
    "print(result)\n",
    "\n",
    "y = []\n",
    "for i in range(10, 21):\n",
    "\ty += [factorial(i)]\n",
    "\n",
    "print(y)\n",
    "print(result == y)\n",
    "\t"
   ]
  },
  {
   "cell_type": "code",
   "execution_count": null,
   "metadata": {
    "collapsed": true
   },
   "outputs": [],
   "source": []
  }
 ],
 "metadata": {
  "celltoolbar": "Raw Cell Format",
  "kernelspec": {
   "display_name": "Python 3",
   "language": "python",
   "name": "python3"
  },
  "language_info": {
   "codemirror_mode": {
    "name": "ipython",
    "version": 3
   },
   "file_extension": ".py",
   "mimetype": "text/x-python",
   "name": "python",
   "nbconvert_exporter": "python",
   "pygments_lexer": "ipython3",
   "version": "3.4.3"
  }
 },
 "nbformat": 4,
 "nbformat_minor": 0
}

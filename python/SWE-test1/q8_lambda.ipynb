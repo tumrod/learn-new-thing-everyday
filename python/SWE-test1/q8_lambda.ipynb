{
 "cells": [
  {
   "cell_type": "code",
   "execution_count": 1,
   "metadata": {
    "collapsed": false
   },
   "outputs": [
    {
     "name": "stdout",
     "output_type": "stream",
     "text": [
      "7\n",
      "30\n",
      "10\n"
     ]
    }
   ],
   "source": [
    "# Question 1\n",
    "a = lambda i : i+5\n",
    "b = lambda i,j : i*j\n",
    "c = lambda i,j,k : (i+j)-k\n",
    "\n",
    "print(a(2))\n",
    "print(b(5,6))\n",
    "print(c(3,12,5))"
   ]
  },
  {
   "cell_type": "code",
   "execution_count": 5,
   "metadata": {
    "collapsed": false
   },
   "outputs": [
    {
     "name": "stdout",
     "output_type": "stream",
     "text": [
      "[10, 15, 20]\n",
      "[1, 1, 1]\n",
      "[0, 6, 24]\n"
     ]
    }
   ],
   "source": [
    "# Question 2\n",
    "x = [2, 3, 4]\n",
    "y = [1, 2, 3]\n",
    "w = [0, 1, 2]\n",
    "\n",
    "z = map(lambda i : i*5, x)\n",
    "\n",
    "print(list(z))\n",
    "\n",
    "z = map(lambda i, j : i-j, x, y)\n",
    "print(list(z))\n",
    "\n",
    "z = map(lambda i, j, k : i*j*k, x, y, w)\n",
    "print(list(z))"
   ]
  },
  {
   "cell_type": "code",
   "execution_count": 6,
   "metadata": {
    "collapsed": false
   },
   "outputs": [
    {
     "name": "stdout",
     "output_type": "stream",
     "text": [
      "10\n",
      "24\n"
     ]
    }
   ],
   "source": [
    "# Question 3\n",
    "from functools import reduce\n",
    "\n",
    "a = [1,2,3,4]\n",
    "b = reduce(lambda i, j : i+j, a, 0)\n",
    "print(b)\n",
    "b = reduce(lambda i, j : i*j, a, 1)\n",
    "print(b)"
   ]
  },
  {
   "cell_type": "code",
   "execution_count": null,
   "metadata": {
    "collapsed": true
   },
   "outputs": [],
   "source": []
  }
 ],
 "metadata": {
  "kernelspec": {
   "display_name": "Python 3",
   "language": "python",
   "name": "python3"
  },
  "language_info": {
   "codemirror_mode": {
    "name": "ipython",
    "version": 3
   },
   "file_extension": ".py",
   "mimetype": "text/x-python",
   "name": "python",
   "nbconvert_exporter": "python",
   "pygments_lexer": "ipython3",
   "version": "3.4.3"
  }
 },
 "nbformat": 4,
 "nbformat_minor": 0
}

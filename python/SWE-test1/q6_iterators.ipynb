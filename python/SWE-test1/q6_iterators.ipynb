{
 "cells": [
  {
   "cell_type": "code",
   "execution_count": 4,
   "metadata": {
    "collapsed": false
   },
   "outputs": [
    {
     "name": "stdout",
     "output_type": "stream",
     "text": [
      "[7, 8, 9, 10]\n"
     ]
    }
   ],
   "source": [
    "# Question 1\n",
    "import types\n",
    "class A :\n",
    "    class B :\n",
    "        def __init__ (self) :\n",
    "            self.i = 7\n",
    "\n",
    "        def __iter__ (self) :\n",
    "            return self\n",
    "\n",
    "        def __next__ (self) :\n",
    "            if self.i == 11 :\n",
    "                raise StopIteration\n",
    "            j = self.i\n",
    "            self.i += 1\n",
    "            return j\n",
    "\n",
    "    def __iter__ (self) :\n",
    "        return A.B()\n",
    "\n",
    "x = A()\n",
    "print(list(x))"
   ]
  },
  {
   "cell_type": "code",
   "execution_count": 5,
   "metadata": {
    "collapsed": false
   },
   "outputs": [
    {
     "name": "stdout",
     "output_type": "stream",
     "text": [
      "result:  [2, 3, 5, 7, 11, 13, 17, 19, 23, 29]\n",
      "expected:  [2, 3, 5, 7, 11, 13, 17, 19, 23, 29]\n",
      "True\n"
     ]
    }
   ],
   "source": [
    "# Question 2\n",
    "import types\n",
    "from math import sqrt\n",
    "\n",
    "def is_prime(n):\n",
    "    if (n == 1) or ((n % 2) == 0) :\n",
    "        return (n == 2)\n",
    "    for i in range(3, int(sqrt(n))+1, 2) :\n",
    "        if (n % i) == 0 :\n",
    "            return False\n",
    "    return True\n",
    "\n",
    "class Prime:\n",
    "    class It:\n",
    "        def __init__ (self) :\n",
    "            self.count = 0\n",
    "            self.i = 2\n",
    "\n",
    "        def __iter__ (self) :\n",
    "            return self\n",
    "\n",
    "        def __next__ (self) :\n",
    "            if self.count == 10:\n",
    "                raise StopIteration\n",
    "\n",
    "            if is_prime(self.i):\n",
    "                j = self.i\n",
    "                self.count += 1\n",
    "                self.i += 1\n",
    "                return j\n",
    "            else :\n",
    "                self.i += 1\n",
    "                return next(self)\n",
    "            \n",
    "    def __iter__ (self) :\n",
    "        return Prime.It()\n",
    "\n",
    "x = Prime()\n",
    "\n",
    "# answer for the first 10 primes\n",
    "y = [2, 3, 5, 7, 11, 13, 17, 19, 23, 29]\n",
    "# answer for the first 20 primes\n",
    "z = [2,3,5,7,11,13,17,19,23,29,31,37,41,43,47,53,59,61,67,71]\n",
    "result = list(x)\n",
    "print(\"result: \", result)\n",
    "print(\"expected: \", y)\n",
    "print(result == y)"
   ]
  },
  {
   "cell_type": "code",
   "execution_count": 3,
   "metadata": {
    "collapsed": false
   },
   "outputs": [
    {
     "name": "stdout",
     "output_type": "stream",
     "text": [
      "4\n",
      "9\n",
      "16\n",
      "25\n",
      "[36]\n"
     ]
    }
   ],
   "source": [
    "def question_3():\n",
    "\tx = [2, 3, 4]\n",
    "\ty = [v ** 2 for v in x]\n",
    "\tz = (v ** 2 for v in x)\n",
    "\n",
    "\ti = next(z)\t\t\n",
    "\tprint(i)\t\t\n",
    "\ti = next(z)\n",
    "\tprint(i)\t\t\t\n",
    "\ti = next(z)\n",
    "\tprint(i)\t\t\t\n",
    "\n",
    "\tx += [5]\n",
    "\n",
    "\ti = next(z)\n",
    "\tprint(i)\t\t\t\n",
    "\n",
    "\tx += [6]\n",
    "\tprint(list(z))\n",
    "question_3()"
   ]
  },
  {
   "cell_type": "code",
   "execution_count": 6,
   "metadata": {
    "collapsed": false
   },
   "outputs": [
    {
     "name": "stdout",
     "output_type": "stream",
     "text": [
      "4\n",
      "9\n",
      "16\n",
      "25\n",
      "[36]\n"
     ]
    }
   ],
   "source": [
    "# Question 3\n",
    "\n",
    "x = [2, 3, 4]\n",
    "y = [v ** 2 for v in x]\n",
    "z = (v ** 2 for v in x)\n",
    "\n",
    "i = next(z)     \n",
    "print(i)        \n",
    "i = next(z)\n",
    "print(i)            \n",
    "i = next(z)\n",
    "print(i)            \n",
    "\n",
    "x += [5]\n",
    "\n",
    "i = next(z)\n",
    "print(i)            \n",
    "\n",
    "x += [6]\n",
    "print(list(z))"
   ]
  },
  {
   "cell_type": "code",
   "execution_count": null,
   "metadata": {
    "collapsed": true
   },
   "outputs": [],
   "source": []
  }
 ],
 "metadata": {
  "kernelspec": {
   "display_name": "Python 3",
   "language": "python",
   "name": "python3"
  },
  "language_info": {
   "codemirror_mode": {
    "name": "ipython",
    "version": 3
   },
   "file_extension": ".py",
   "mimetype": "text/x-python",
   "name": "python",
   "nbconvert_exporter": "python",
   "pygments_lexer": "ipython3",
   "version": "3.4.3"
  }
 },
 "nbformat": 4,
 "nbformat_minor": 0
}

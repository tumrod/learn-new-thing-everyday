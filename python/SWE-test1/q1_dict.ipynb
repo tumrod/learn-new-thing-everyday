{
 "cells": [
  {
   "cell_type": "code",
   "execution_count": 1,
   "metadata": {
    "collapsed": false
   },
   "outputs": [
    {
     "name": "stdout",
     "output_type": "stream",
     "text": [
      "{2, 3, 4}\n"
     ]
    }
   ],
   "source": [
    "# Question 1\n",
    "x = {2 : \"abc\", 3 : \"def\", 4 : \"ghi\"}\n",
    "y = {v for v in x}\n",
    "print(y)"
   ]
  },
  {
   "cell_type": "code",
   "execution_count": 2,
   "metadata": {
    "collapsed": false
   },
   "outputs": [
    {
     "name": "stdout",
     "output_type": "stream",
     "text": [
      "{'ghi': 4, 'abc': 2, 'def': 3}\n"
     ]
    }
   ],
   "source": [
    "# Question 2\n",
    "x = {2 : \"abc\", 3 : \"def\", 4 : \"ghi\"}\n",
    "y = {v : k for k, v in x.items()}\n",
    "print(y)"
   ]
  },
  {
   "cell_type": "code",
   "execution_count": 3,
   "metadata": {
    "collapsed": false
   },
   "outputs": [
    {
     "name": "stdout",
     "output_type": "stream",
     "text": [
      "{'ghi', 'abc', 'def'}\n"
     ]
    }
   ],
   "source": [
    "# Question 3\n",
    "x = {2 : \"abc\", 3 : \"def\", 4 : \"ghi\"}\n",
    "y = {v for v in x.values()}\n",
    "print(y)"
   ]
  },
  {
   "cell_type": "code",
   "execution_count": 4,
   "metadata": {
    "collapsed": false
   },
   "outputs": [
    {
     "name": "stdout",
     "output_type": "stream",
     "text": [
      "{(2, 'abc'), (3, 'def'), (4, 'ghi')}\n"
     ]
    }
   ],
   "source": [
    "# Question 4\n",
    "x = {2 : \"abc\", 3 : \"def\", 4 : \"ghi\"}\n",
    "y = {i for i in x.items()}\n",
    "print(y)"
   ]
  },
  {
   "cell_type": "code",
   "execution_count": 6,
   "metadata": {
    "collapsed": false
   },
   "outputs": [
    {
     "name": "stdout",
     "output_type": "stream",
     "text": [
      "{2: 'Bob', 5: 'Jane'}\n",
      "{9: 'Ken', 2: 'Bob', 5: 'Jane'}\n"
     ]
    }
   ],
   "source": [
    "# Question 5\n",
    "x = [(2,\"Bob\"), (5, \"Jane\")]\n",
    "y = {}  \n",
    "\n",
    "#write a dict comprehension for y\n",
    "y = {k:v for k,v in x}\n",
    "\n",
    "print(y)  # {2: 'Bob', 5: 'Jane'}\n",
    "\n",
    "# add the element to the dict\n",
    "y[9] = \"Ken\"\n",
    "\n",
    "print(y)  # {2: ‘Bob’, 5: ‘Jane’, 9: ‘Ken’}"
   ]
  },
  {
   "cell_type": "code",
   "execution_count": null,
   "metadata": {
    "collapsed": true
   },
   "outputs": [],
   "source": []
  }
 ],
 "metadata": {
  "kernelspec": {
   "display_name": "Python 3",
   "language": "python",
   "name": "python3"
  },
  "language_info": {
   "codemirror_mode": {
    "name": "ipython",
    "version": 3
   },
   "file_extension": ".py",
   "mimetype": "text/x-python",
   "name": "python",
   "nbconvert_exporter": "python",
   "pygments_lexer": "ipython3",
   "version": "3.4.3"
  }
 },
 "nbformat": 4,
 "nbformat_minor": 0
}
